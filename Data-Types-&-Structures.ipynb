{
 "cells": [
  {
   "cell_type": "markdown",
   "id": "a1a3dc26-2d0e-46d4-bb0a-612a26ccf15f",
   "metadata": {},
   "source": [
    "# What are data structures, and why are they important\n",
    "->Data structures are ways to organize, store, and manage data so that it can be used efficiently. They are the foundation for handling data in programming, analytics, and data science.\n",
    "\n",
    "Common Types of Data Structures:\n",
    "Type\t         | Description\tExample in Data Analytics\n",
    "Array / List\t | Ordered collection of items\tTime series data\n",
    "Dictionary\t     | Key-value pairs\tJSON data, feature mappings\n",
    "| Reason                                          | Explanation                                                               |\n",
    "| ----------------------------------------------- | ------------------------------------------------------------------------- |\n",
    "|  **Efficient Data Handling**                   | Enables quick access, search, and manipulation of data                    |\n",
    "|  **Data Representation**                       | Helps represent real-world data intuitively (tables, lists, graphs, etc.) |\n",
    "|  **Performance Optimization**                  | Reduces time complexity for operations like sorting and filtering         |\n",
    "|  **Supports Algorithms**                       | Data structures are required for implementing data cleaning, ML, etc.     |\n",
    "|  **Facilitates Data Cleaning/Transformation**  | Simplifies wrangling and reshaping data for analysis                      |\n"
   ]
  },
  {
   "cell_type": "markdown",
   "id": "8e2a9b6f-466e-4504-bfd6-0085614c2558",
   "metadata": {},
   "source": [
    "# Explain the difference between mutable and immutable data types with examples\n",
    "->  Mutable Data Types\n",
    "Can be changed after creation\n",
    "\n",
    "You can add, remove, or modify elements\n",
    "\n",
    " Examples:\n",
    "List → my_list = [1, 2, 3] → my_list[0] = 10\n",
    "\n",
    "Dictionary → my_dict = {'a': 1} → my_dict['a'] = 2\n",
    "\n",
    "Set → my_set = {1, 2} → my_set.add(3)\n",
    "\n",
    " Immutable Data Types\n",
    "Cannot be changed after creation\n",
    "\n",
    "Any \"change\" creates a new object\n",
    "\n",
    " Examples:\n",
    "Tuple → my_tuple = (1, 2, 3)\n",
    "\n",
    "String → my_str = \"data\" → my_str[0] = 'D' ❌ (not allowed)\n",
    "\n",
    "Integer/Float → x = 5 → x = x + 1 (creates a new value)"
   ]
  },
  {
   "cell_type": "markdown",
   "id": "b60351c9-e67b-4fc4-975c-240c927a2585",
   "metadata": {},
   "source": [
    "# What are the main differences between lists and tuples in Python\n",
    "->In Python, lists and tuples are both used to store collections of items, but they have key differences. A list is mutable, meaning its contents can be changed after creation—you can add, remove, or update items. It uses square brackets ([]) and is more flexible but generally slower in performance and consumes more memory. Lists also offer more built-in methods, such as append(), which makes them ideal for tasks like data cleaning or manipulation where the data may change.\n",
    "\n",
    "On the other hand, a tuple is immutable, so once it's created, its values cannot be modified. Tuples use parentheses (()), and while they are less flexible, they are faster and use less memory, making them more efficient for fixed data. Since tuples support fewer methods, they are best suited for storing constant data, such as coordinates, or as keys in dictionaries where immutability is important."
   ]
  },
  {
   "cell_type": "markdown",
   "id": "62d19c62-3ca5-4b3d-ae9a-a651c9222589",
   "metadata": {},
   "source": [
    "# Describe how dictionaries store data\n",
    "->A dictionary in Python stores data as key-value pairs. Each key is unique and is used to access its corresponding value. Dictionaries are unordered before Python 3.7 and ordered "
   ]
  },
  {
   "cell_type": "markdown",
   "id": "2bc50821-4159-4d22-99ef-c40bc3379745",
   "metadata": {},
   "source": [
    "# Why might you use a set instead of a list in Python\n",
    "-> You might use a set instead of a list in Python when you need to store unique items and perform operations like checking for membership quickly. Unlike lists, sets automatically remove duplicates, which makes them ideal for tasks where data uniqueness is important, such as filtering repeated entries. Sets are also faster than lists when it comes to checking if an element exists, because they use hashing, allowing for constant-time lookups. Additionally, sets support useful mathematical operations like union, intersection, and difference, which are helpful in tasks such as comparing datasets."
   ]
  },
  {
   "cell_type": "markdown",
   "id": "169484d8-a167-47d3-a07a-7924cdf5d347",
   "metadata": {},
   "source": [
    "# What is a string in Python, and how is it different from a list\n",
    "-> A **string** in Python is a sequence of **characters** enclosed in quotes (single `' '`, double `\" \"`, or triple quotes for multi-line strings). Strings are used to represent **text data**, such as words, sentences, or symbols. For example, `\"Hello, World!\"` is a string made up of letters, punctuation, and spaces.\n",
    "\n",
    "While both **strings** and **lists** are **sequences** and support indexing, slicing, and iteration, there are key differences. The main difference is that **strings are immutable**, meaning you **cannot change** individual characters once the string is created. In contrast, **lists are mutable**, so you **can modify** elements, add new items, or remove them. Also, a list can contain **any type of data** (numbers, strings, other lists), while a string contains **only characters**.\n",
    "\n",
    "In short, use a **string** when working with text that shouldn't change, and a **list** when working with a collection of items that may need to be modified.\n"
   ]
  },
  {
   "cell_type": "markdown",
   "id": "9ee859b4-3527-4ce7-93d7-4f500fe705ba",
   "metadata": {},
   "source": [
    "# How do tuples ensure data integrity in Python\n",
    "->Tuples ensure data integrity in Python by being **immutable**, which means once a tuple is created, its contents **cannot be changed**. This immutability prevents accidental or intentional modification of the data stored inside the tuple, making it reliable for storing fixed collections of values that should remain constant throughout the program. Because tuples cannot be altered, they are often used to represent data that must stay consistent, such as coordinates, configuration settings, or keys in dictionaries. This built-in immutability helps maintain data integrity by protecting the stored information from unintended changes.\n"
   ]
  },
  {
   "cell_type": "markdown",
   "id": "c3dd106a-f801-4c91-9de0-f959fac6b559",
   "metadata": {},
   "source": [
    "# What is a hash table, and how does it relate to dictionaries in Python\n",
    "->A **hash table** is a data structure that stores data in key-value pairs and uses a **hash function** to compute an index (called a hash) into an array, where the value is stored. This allows for **fast data retrieval**, insertion, and deletion—usually in **constant time (O(1))** on average.\n",
    "\n",
    "In Python, **dictionaries** are implemented using hash tables. When you add a key-value pair to a dictionary, Python computes the hash of the key and uses it to quickly locate the position where the value should be stored. When you access a value by its key, Python again computes the key’s hash to find the value efficiently. This is why dictionary lookups, insertions, and deletions are typically very fast.\n",
    "\n",
    "Because dictionaries rely on hash tables, the **keys must be immutable** (e.g., strings, numbers, tuples) so their hash value remains constant. This relationship between hash tables and dictionaries is fundamental to Python’s efficient handling of associative arrays (maps).\n"
   ]
  },
  {
   "cell_type": "markdown",
   "id": "8717b470-07c5-45e5-bb04-d8466de6759a",
   "metadata": {},
   "source": [
    "#  Can lists contain different data types in Python\n",
    "-> Yes, **lists in Python can contain different data types** within the same list. Unlike some programming languages that require all elements in an array to be of the same type, Python lists are **heterogeneous**, meaning they can hold a mix of integers, strings, floats, objects, and even other lists. For example, a list can look like this: `[1, \"apple\", 3.14, True, [5, 6]]`. This flexibility makes lists very powerful for storing and manipulating diverse data in data analytics and general programming.\n"
   ]
  },
  {
   "cell_type": "markdown",
   "id": "5f7852b5-3ea4-4684-b7cc-65a3639eabd0",
   "metadata": {},
   "source": [
    "#  Explain why strings are immutable in Python\n",
    "-> Strings are immutable in Python because their immutability ensures safety, efficiency, and consistency when handling text data. When a string is created, its content cannot be changed, which prevents accidental modifications that could lead to bugs or unexpected behavior—especially since strings are often shared across different parts of a program.\n",
    "\n",
    "Immutability also allows Python to optimize memory usage by reusing the same string objects (a process called interning) instead of creating multiple copies. Additionally, because strings are immutable, they can be used as keys in dictionaries and elements in sets, which require their members to have a fixed, unchangeable value for hashing to work correctly."
   ]
  },
  {
   "cell_type": "markdown",
   "id": "d6e913ef-1468-4636-bd31-f4e3c020a17d",
   "metadata": {},
   "source": [
    "#  What advantages do dictionaries offer over lists for certain tasks\n",
    "-> Dictionaries offer several advantages over lists for certain tasks, mainly due to their **key-value pair structure** and efficient data access:\n",
    "\n",
    "1. **Fast Lookups by Key:** Dictionaries provide **constant-time (O(1)) access** to values using keys, whereas lists require searching through elements, which can be slower (O(n)).\n",
    "\n",
    "2. **Meaningful Indexing:** Instead of numeric indices like lists, dictionaries use **meaningful keys** (like names or IDs), making code easier to read and maintain.\n",
    "\n",
    "3. **No Duplicate Keys:** Dictionaries enforce **unique keys**, which helps in tasks where each item must be uniquely identified.\n",
    "\n",
    "4. **Flexible Data Storage:** Values in dictionaries can be of any data type, including complex objects, allowing more structured and descriptive data organization.\n",
    "\n",
    "5. **Efficient Updates and Deletions:** Adding, updating, or deleting items by key is more straightforward and efficient compared to lists, where you might need to find the item first.\n",
    "\n",
    "Because of these benefits, dictionaries are ideal for tasks like storing records, configurations, or mappings—where quick, direct access to data by a unique identifier is essential.\n"
   ]
  },
  {
   "cell_type": "markdown",
   "id": "021ad15c-d772-42a3-ae7a-e5b0342e17ae",
   "metadata": {},
   "source": [
    "# Describe a scenario where using a tuple would be preferable over a list\n",
    "->A good scenario to use a **tuple instead of a list** is when you need to store a collection of values that should **never change throughout your program**, ensuring data integrity and preventing accidental modification.\n",
    "\n",
    "For example, suppose you’re working with **geographic coordinates** (latitude and longitude) for a location. Since these values represent a fixed point and shouldn’t be altered accidentally, storing them as a tuple like `(40.7128, -74.0060)` is preferable. Using a tuple guarantees the coordinates remain constant, unlike a list, which could be modified unintentionally.\n",
    "\n",
    "Tuples are also useful as **dictionary keys** (because they’re immutable), so if you need to map data to fixed sets of values, tuples are the safer choice. This immutability helps keep your data consistent and your program more reliable.\n"
   ]
  },
  {
   "cell_type": "markdown",
   "id": "78e640c2-7729-4d00-a1ac-49025c41651d",
   "metadata": {},
   "source": [
    "# How do sets handle duplicate values in Python\n",
    "->In Python, **sets automatically eliminate duplicate values**. When you add elements to a set, it stores only **unique items**, so any duplicates are ignored. This means if you try to add the same value multiple times, the set will keep just one copy. This behavior makes sets very useful for tasks like removing duplicates from a list or checking for unique elements quickly. Internally, sets use hashing to efficiently ensure each value appears only once.\n"
   ]
  },
  {
   "cell_type": "markdown",
   "id": "0c64534c-2477-40ef-b992-9cd5847a5102",
   "metadata": {},
   "source": [
    "# How does the “in” keyword work differently for lists and dictionaries\n",
    "-> Great question! The **`in` keyword** is used to check for membership, but it works a bit differently for **lists** and **dictionaries** in Python:\n",
    "\n",
    "* **For lists**, `in` checks whether a **value** exists anywhere in the list by scanning through the elements one by one. This means the operation can take longer (on average O(n) time) because it may have to look through the entire list.\n",
    "\n",
    "  ```python\n",
    "  my_list = [1, 2, 3]\n",
    "  2 in my_list   # True (searches through list elements)\n",
    "  ```\n",
    "\n",
    "* **For dictionaries**, `in` checks whether a **key** exists in the dictionary, not the values. Because dictionaries use a hash table, this lookup is very fast (average O(1) time).\n",
    "\n",
    "  ```python\n",
    "  my_dict = {'a': 1, 'b': 2}\n",
    "  'a' in my_dict   # True (checks keys only)\n",
    "  1 in my_dict     # False (does NOT check values)\n",
    "  ```\n",
    "\n",
    "So, while `in` tests for presence of a value in lists, it tests for presence of a key in dictionaries — with dictionaries being much faster due to hashing.\n"
   ]
  },
  {
   "cell_type": "markdown",
   "id": "e703c1b3-fa70-4728-8007-e75957a0b19c",
   "metadata": {},
   "source": [
    "# Can you modify the elements of a tuple? Explain why or why not\n",
    "-> you **cannot modify the elements of a tuple** because tuples are **immutable** in Python. This means once a tuple is created, its contents **cannot be changed, added to, or removed**.\n",
    "\n",
    "The immutability is by design to ensure data integrity and to allow tuples to be used as keys in dictionaries or elements in sets, which require fixed, hashable objects. If you need a collection that can be changed, you should use a **list** instead, which is mutable and allows modification of its elements.\n"
   ]
  },
  {
   "cell_type": "markdown",
   "id": "2db350b4-6b96-454f-9b55-595e2af1fc79",
   "metadata": {},
   "source": [
    "#  What is a nested dictionary, and give an example of its use case\n",
    "->A **nested dictionary** is a dictionary that contains other dictionaries as its values. It’s useful for organizing complex data with multiple levels, like storing employee info where each employee has their own dictionary of details. For example:\n",
    "\n",
    "```python\n",
    "employees = {\n",
    "  \"emp1\": {\"name\": \"Alice\", \"age\": 30},\n",
    "  \"emp2\": {\"name\": \"Bob\", \"age\": 25}\n",
    "}\n",
    "```\n",
    "\n",
    "You can easily access data like `employees[\"emp1\"][\"name\"]` to get `\"Alice\"`.\n"
   ]
  },
  {
   "cell_type": "markdown",
   "id": "829f5fce-e739-4ff3-8464-0503a6727760",
   "metadata": {},
   "source": [
    "# Describe the time complexity of accessing elements in a dictionary\n",
    "->Accessing elements in a dictionary generally has an average **time complexity of O(1)**, which means it takes constant time regardless of the dictionary’s size. This efficiency comes from the underlying **hash table** structure, which uses a hash function to directly locate the position of a key-value pair in memory.\n",
    "\n",
    "However, in rare cases where there are many **hash collisions** (different keys hashing to the same position), the time complexity can degrade to **O(n)**, where *n* is the number of items in the dictionary. But Python’s hashing and resizing strategies minimize collisions, so constant-time access is typical in practice.\n"
   ]
  },
  {
   "cell_type": "markdown",
   "id": "f81fdbda-d56a-49f6-8f7f-d60a34557474",
   "metadata": {},
   "source": [
    "# In what situations are lists preferred over dictionaries\n",
    "->Lists are preferred over dictionaries when you need to store **ordered collections** of items where the **sequence matters** and you may have **duplicate values**. They’re ideal for cases where you want to access elements by their **position (index)** rather than by a key. For example, when working with a series of data points, maintaining the order of tasks, or iterating through items in the exact order they were added, lists are simpler and more memory-efficient than dictionaries. If you don’t need fast key-based lookups and just want to keep data in order, lists are the better choice.\n"
   ]
  },
  {
   "cell_type": "code",
   "execution_count": 2,
   "id": "baa4f135-7c67-4a58-9118-a23146512ea9",
   "metadata": {},
   "outputs": [
    {
     "name": "stdout",
     "output_type": "stream",
     "text": [
      "sahil shingate\n"
     ]
    }
   ],
   "source": [
    "#Write a code to create a string with your name and print it\n",
    "name = \"sahil shingate\"\n",
    "print(name)"
   ]
  },
  {
   "cell_type": "code",
   "execution_count": 3,
   "id": "67d4ad3e-786f-49dd-a446-ad29c8e5475b",
   "metadata": {},
   "outputs": [
    {
     "name": "stdout",
     "output_type": "stream",
     "text": [
      "11\n"
     ]
    }
   ],
   "source": [
    "#Write a code to find the length of the string \"Hello World\"\n",
    "string = \"Hello World\"\n",
    "length = len(string)\n",
    "print(length)"
   ]
  },
  {
   "cell_type": "code",
   "execution_count": 7,
   "id": "f46d9756-5a47-4d0d-9414-1ab0ec376a76",
   "metadata": {},
   "outputs": [
    {
     "name": "stdout",
     "output_type": "stream",
     "text": [
      "Pyt\n"
     ]
    }
   ],
   "source": [
    "#Write a code to slice the first 3 characters from the string \"Python Programming\"\n",
    "my_string = \"Python Programming\"\n",
    "first_three = my_string[:3]\n",
    "print(first_three)\n"
   ]
  },
  {
   "cell_type": "code",
   "execution_count": 10,
   "id": "7bf33606-3f79-4584-95ae-46d0fa7d821d",
   "metadata": {},
   "outputs": [
    {
     "name": "stdout",
     "output_type": "stream",
     "text": [
      "HELLO\n"
     ]
    }
   ],
   "source": [
    "#Write a code to convert the string \"hello\" to uppercase\n",
    "my_string = \"hello\"\n",
    "uppercase_string = my_string.upper()\n",
    "print(uppercase_string)\n"
   ]
  },
  {
   "cell_type": "code",
   "execution_count": 8,
   "id": "c092a720-7267-41bc-979e-f292f0bada9f",
   "metadata": {},
   "outputs": [
    {
     "name": "stdout",
     "output_type": "stream",
     "text": [
      "I like orange\n"
     ]
    }
   ],
   "source": [
    "#Write a code to replace the word \"apple\" with \"orange\" in the string \"I like apple\n",
    "text = \"I like apple\"\n",
    "new_text = text.replace(\"apple\", \"orange\")\n",
    "print(new_text)\n"
   ]
  },
  {
   "cell_type": "code",
   "execution_count": 11,
   "id": "8dd594e6-1423-42a4-9ba7-c13c73f5eb67",
   "metadata": {},
   "outputs": [
    {
     "name": "stdout",
     "output_type": "stream",
     "text": [
      "[1, 2, 3, 4, 5]\n"
     ]
    }
   ],
   "source": [
    "#Write a code to create a list with numbers 1 to 5 and print it\n",
    "my_list = [1, 2, 3, 4, 5]\n",
    "print(my_list)\n"
   ]
  },
  {
   "cell_type": "code",
   "execution_count": 12,
   "id": "fe7ef034-81e6-4f9e-8a60-d506d0beaedc",
   "metadata": {},
   "outputs": [
    {
     "name": "stdout",
     "output_type": "stream",
     "text": [
      "[1, 2, 3, 4, 10]\n"
     ]
    }
   ],
   "source": [
    "#Write a code to append the number 10 to the list [1, 2, 3, 4]\n",
    "my_list = [1, 2, 3, 4]\n",
    "my_list.append(10)\n",
    "print(my_list)\n"
   ]
  },
  {
   "cell_type": "code",
   "execution_count": 13,
   "id": "ba404895-1662-4eba-81d0-25fd12cfc48e",
   "metadata": {},
   "outputs": [
    {
     "name": "stdout",
     "output_type": "stream",
     "text": [
      "[1, 2, 4, 5]\n"
     ]
    }
   ],
   "source": [
    "#Write a code to remove the number 3 from the list [1, 2, 3, 4, 5]\n",
    "my_list = [1, 2, 3, 4, 5]\n",
    "my_list.remove(3)\n",
    "print(my_list)\n"
   ]
  },
  {
   "cell_type": "code",
   "execution_count": 14,
   "id": "963af472-3678-4f38-8b63-8f85744a69de",
   "metadata": {},
   "outputs": [
    {
     "name": "stdout",
     "output_type": "stream",
     "text": [
      "b\n"
     ]
    }
   ],
   "source": [
    "# Write a code to access the second element in the list ['a', 'b', 'c', 'd']\n",
    "my_list = ['a', 'b', 'c', 'd']\n",
    "second_element = my_list[1]\n",
    "print(second_element)\n"
   ]
  },
  {
   "cell_type": "code",
   "execution_count": 15,
   "id": "cc36bebd-d6ed-4584-ae06-d21ad65c11cb",
   "metadata": {},
   "outputs": [
    {
     "name": "stdout",
     "output_type": "stream",
     "text": [
      "[50, 40, 30, 20, 10]\n"
     ]
    }
   ],
   "source": [
    "# Write a code to reverse the list [10, 20, 30, 40, 50]\n",
    "my_list = [10, 20, 30, 40, 50]\n",
    "my_list.reverse()\n",
    "print(my_list)\n"
   ]
  },
  {
   "cell_type": "code",
   "execution_count": 16,
   "id": "b595a979-d565-4c76-8f20-d49ebadea6f2",
   "metadata": {},
   "outputs": [
    {
     "name": "stdout",
     "output_type": "stream",
     "text": [
      "(100, 200, 300)\n"
     ]
    }
   ],
   "source": [
    "#Write a code to create a tuple with the elements 100, 200, 300 and print it\n",
    "my_tuple = (100, 200, 300)\n",
    "print(my_tuple)\n"
   ]
  },
  {
   "cell_type": "code",
   "execution_count": 17,
   "id": "be6f7b51-2dc3-422a-86d9-da92823051c3",
   "metadata": {},
   "outputs": [
    {
     "name": "stdout",
     "output_type": "stream",
     "text": [
      "blue\n"
     ]
    }
   ],
   "source": [
    "#Write a code to access the second-to-last element of the tuple ('red', 'green', 'blue', 'yellow')\n",
    "my_tuple = ('red', 'green', 'blue', 'yellow')\n",
    "second_last = my_tuple[-2]\n",
    "print(second_last)\n"
   ]
  },
  {
   "cell_type": "code",
   "execution_count": 18,
   "id": "5a705a10-f739-42be-bab0-531d710048bc",
   "metadata": {},
   "outputs": [
    {
     "name": "stdout",
     "output_type": "stream",
     "text": [
      "5\n"
     ]
    }
   ],
   "source": [
    "# Write a code to find the minimum number in the tuple (10, 20, 5, 15)\n",
    "my_tuple = (10, 20, 5, 15)\n",
    "minimum = min(my_tuple)\n",
    "print(minimum)\n"
   ]
  },
  {
   "cell_type": "code",
   "execution_count": 19,
   "id": "db055b96-6b22-428f-ac76-7abc77db85e5",
   "metadata": {},
   "outputs": [
    {
     "name": "stdout",
     "output_type": "stream",
     "text": [
      "1\n"
     ]
    }
   ],
   "source": [
    "#Write a code to find the index of the element \"cat\" in the tuple ('dog', 'cat', 'rabbit')\n",
    "my_tuple = ('dog', 'cat', 'rabbit')\n",
    "index = my_tuple.index('cat')\n",
    "print(index)\n"
   ]
  },
  {
   "cell_type": "code",
   "execution_count": 20,
   "id": "e27b0c35-2fc3-4e49-9ab5-10bddab80fda",
   "metadata": {},
   "outputs": [
    {
     "name": "stdout",
     "output_type": "stream",
     "text": [
      "False\n"
     ]
    }
   ],
   "source": [
    "# Write a code to create a tuple containing three different fruits and check if \"kiwi\" is in it\n",
    "fruits = (\"apple\", \"banana\", \"orange\")\n",
    "print(\"kiwi\" in fruits)\n"
   ]
  },
  {
   "cell_type": "code",
   "execution_count": 21,
   "id": "cb0e21b0-101b-48ea-a0b6-fe45bfa322f3",
   "metadata": {},
   "outputs": [
    {
     "name": "stdout",
     "output_type": "stream",
     "text": [
      "{'a', 'b', 'c'}\n"
     ]
    }
   ],
   "source": [
    "# Write a code to create a set with the elements 'a', 'b', 'c' and print it\n",
    "my_set = {'a', 'b', 'c'}\n",
    "print(my_set)\n"
   ]
  },
  {
   "cell_type": "code",
   "execution_count": 22,
   "id": "d456abd4-0e12-4a8c-acff-bedcf27495cf",
   "metadata": {},
   "outputs": [
    {
     "name": "stdout",
     "output_type": "stream",
     "text": [
      "set()\n"
     ]
    }
   ],
   "source": [
    "#Write a code to clear all elements from the set {1, 2, 3, 4, 5}\n",
    "my_set = {1, 2, 3, 4, 5}\n",
    "my_set.clear()\n",
    "print(my_set)\n"
   ]
  },
  {
   "cell_type": "code",
   "execution_count": 23,
   "id": "76297fd7-aea3-44ea-8300-a08c26d20e9d",
   "metadata": {},
   "outputs": [
    {
     "name": "stdout",
     "output_type": "stream",
     "text": [
      "{1, 2, 3}\n"
     ]
    }
   ],
   "source": [
    "#Write a code to remove the element 4 from the set {1, 2, 3, 4}\n",
    "my_set = {1, 2, 3, 4}\n",
    "my_set.remove(4)\n",
    "print(my_set)\n"
   ]
  },
  {
   "cell_type": "code",
   "execution_count": 24,
   "id": "59668e71-3090-4bcc-9e0a-53d484bbba90",
   "metadata": {},
   "outputs": [
    {
     "name": "stdout",
     "output_type": "stream",
     "text": [
      "{1, 2, 3, 4, 5}\n"
     ]
    }
   ],
   "source": [
    "# Write a code to find the union of two sets {1, 2, 3} and {3, 4, 5}\n",
    "set1 = {1, 2, 3}\n",
    "set2 = {3, 4, 5}\n",
    "union_set = set1.union(set2)\n",
    "print(union_set)\n"
   ]
  },
  {
   "cell_type": "code",
   "execution_count": 25,
   "id": "41836cae-6d09-4abe-88d5-1a99cccb4905",
   "metadata": {},
   "outputs": [
    {
     "name": "stdout",
     "output_type": "stream",
     "text": [
      "{2, 3}\n"
     ]
    }
   ],
   "source": [
    "#Write a code to find the intersection of two sets {1, 2, 3} and {2, 3, 4}.\n",
    "set1 = {1, 2, 3}\n",
    "set2 = {2, 3, 4}\n",
    "intersection_set = set1.intersection(set2)\n",
    "print(intersection_set)\n"
   ]
  },
  {
   "cell_type": "code",
   "execution_count": 26,
   "id": "88a073a8-ad10-4512-afb4-77ffd2ebb207",
   "metadata": {},
   "outputs": [
    {
     "name": "stdout",
     "output_type": "stream",
     "text": [
      "{'name': 'Alice', 'age': 25, 'city': 'New York'}\n"
     ]
    }
   ],
   "source": [
    "#Write a code to create a dictionary with the keys \"name\", \"age\", and \"city\", and print it.\n",
    "my_dict = {\n",
    "    \"name\": \"Alice\",\n",
    "    \"age\": 25,\n",
    "    \"city\": \"New York\"\n",
    "}\n",
    "print(my_dict)\n"
   ]
  },
  {
   "cell_type": "code",
   "execution_count": 27,
   "id": "b3cd1874-52f8-4390-b6c0-80b0d55ec1a1",
   "metadata": {},
   "outputs": [
    {
     "name": "stdout",
     "output_type": "stream",
     "text": [
      "{'name': 'John', 'age': 25, 'country': 'USA'}\n"
     ]
    }
   ],
   "source": [
    "# Write a code to add a new key-value pair \"country\": \"USA\" to the dictionary {'name': 'John', 'age': 25}\n",
    "my_dict = {'name': 'John', 'age': 25}\n",
    "my_dict['country'] = 'USA'\n",
    "print(my_dict)\n"
   ]
  },
  {
   "cell_type": "code",
   "execution_count": 28,
   "id": "187404be-25e1-4c46-bc8b-53815dfee231",
   "metadata": {},
   "outputs": [
    {
     "name": "stdout",
     "output_type": "stream",
     "text": [
      "Alice\n"
     ]
    }
   ],
   "source": [
    "#Write a code to access the value associated with the key \"name\" in the dictionary {'name': 'Alice', 'age': 30}\n",
    "my_dict = {'name': 'Alice', 'age': 30}\n",
    "name_value = my_dict['name']\n",
    "print(name_value)\n"
   ]
  },
  {
   "cell_type": "code",
   "execution_count": 30,
   "id": "b9769b70-e90d-42ea-bab4-df7effc056b1",
   "metadata": {},
   "outputs": [
    {
     "name": "stdout",
     "output_type": "stream",
     "text": [
      "{'name': 'Bob', 'city': 'New York'}\n"
     ]
    }
   ],
   "source": [
    "#Write a code to remove the key \"age\" from the dictionary {'name': 'Bob', 'age': 22, 'city': 'New York'}\n",
    "my_dict = {'name': 'Bob', 'age': 22, 'city': 'New York'}\n",
    "my_dict.pop('age')\n",
    "print(my_dict)\n"
   ]
  },
  {
   "cell_type": "code",
   "execution_count": 31,
   "id": "8730e7b1-6347-4f36-aa42-54dc67d1c994",
   "metadata": {},
   "outputs": [
    {
     "name": "stdout",
     "output_type": "stream",
     "text": [
      "Key 'city' exists in the dictionary.\n"
     ]
    }
   ],
   "source": [
    "# Write a code to check if the key \"city\" exists in the dictionary {'name': 'Alice', 'city': 'Paris'}\n",
    "my_dict = {'name': 'Alice', 'city': 'Paris'}\n",
    "if \"city\" in my_dict:\n",
    "    print(\"Key 'city' exists in the dictionary.\")\n",
    "else:\n",
    "    print(\"Key 'city' does not exist in the dictionary.\")\n",
    "\n"
   ]
  },
  {
   "cell_type": "code",
   "execution_count": 32,
   "id": "91ab2530-dcb5-44a9-a5c4-7270d6cff898",
   "metadata": {},
   "outputs": [
    {
     "name": "stdout",
     "output_type": "stream",
     "text": [
      "List: [1, 2, 3]\n",
      "Tuple: (4, 5, 6)\n",
      "Dictionary: {'name': 'Alice', 'age': 30}\n"
     ]
    }
   ],
   "source": [
    "#Write a code to create a list, a tuple, and a dictionary, and print them all.\n",
    "my_list = [1, 2, 3]\n",
    "my_tuple = (4, 5, 6)\n",
    "my_dict = {\"name\": \"Alice\", \"age\": 30}\n",
    "\n",
    "print(\"List:\", my_list)\n",
    "print(\"Tuple:\", my_tuple)\n",
    "print(\"Dictionary:\", my_dict)\n"
   ]
  },
  {
   "cell_type": "code",
   "execution_count": 33,
   "id": "e97a3d3d-d7fd-41d8-9a58-8ad38069dc13",
   "metadata": {},
   "outputs": [
    {
     "name": "stdout",
     "output_type": "stream",
     "text": [
      "[3, 48, 48, 69, 73]\n"
     ]
    }
   ],
   "source": [
    "#Write a code to create a list of 5 random numbers between 1 and 100, sort it in ascending order, and print the result.(replaced)\n",
    "import random\n",
    "\n",
    "random_numbers = [random.randint(1, 100) for _ in range(5)]\n",
    "random_numbers.sort()\n",
    "print(random_numbers)\n"
   ]
  },
  {
   "cell_type": "code",
   "execution_count": null,
   "id": "540f463a-9b12-42d0-8093-4f5da38e6127",
   "metadata": {},
   "outputs": [],
   "source": [
    "# Write a code to create a list with strings and print the element at the third index."
   ]
  }
 ],
 "metadata": {
  "kernelspec": {
   "display_name": "Python 3 (ipykernel)",
   "language": "python",
   "name": "python3"
  },
  "language_info": {
   "codemirror_mode": {
    "name": "ipython",
    "version": 3
   },
   "file_extension": ".py",
   "mimetype": "text/x-python",
   "name": "python",
   "nbconvert_exporter": "python",
   "pygments_lexer": "ipython3",
   "version": "3.12.4"
  }
 },
 "nbformat": 4,
 "nbformat_minor": 5
}
